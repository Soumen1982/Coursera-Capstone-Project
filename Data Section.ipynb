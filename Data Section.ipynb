{
    "cells": [
        {
            "cell_type": "markdown",
            "metadata": {
                "collapsed": true
            },
            "source": "# Data Collection from Different Sources"
        },
        {
            "cell_type": "markdown",
            "metadata": {},
            "source": "Foue Square API is used to fetch Restaurents data within the 5 Kms distance from Park Street, Kolkata.\nRestaurents name, address, latitude and longitude are taken from Four Square API."
        },
        {
            "cell_type": "markdown",
            "metadata": {},
            "source": "Zomato API is used to fetch mainly ratings and price for two people data."
        },
        {
            "cell_type": "markdown",
            "metadata": {},
            "source": "Finaly thes"
        }
    ],
    "metadata": {
        "kernelspec": {
            "display_name": "Python 3.6",
            "language": "python",
            "name": "python3"
        },
        "language_info": {
            "codemirror_mode": {
                "name": "ipython",
                "version": 3
            },
            "file_extension": ".py",
            "mimetype": "text/x-python",
            "name": "python",
            "nbconvert_exporter": "python",
            "pygments_lexer": "ipython3",
            "version": "3.6.9"
        }
    },
    "nbformat": 4,
    "nbformat_minor": 1
}