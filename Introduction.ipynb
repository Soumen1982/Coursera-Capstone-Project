{
    "cells": [
        {
            "cell_type": "markdown",
            "metadata": {
                "collapsed": true
            },
            "source": "# Introduction/Business Problem"
        },
        {
            "cell_type": "markdown",
            "metadata": {},
            "source": "###### One of a renound MNC want to open a outlet of their Restaurent Business in Kolkata. They want to open the outlet near Park Street area. Before investing into the business they want to study the present market."
        },
        {
            "cell_type": "markdown",
            "metadata": {},
            "source": "The management of the MNC wants to know about the Restaurents presently running in that area. They mainly want to know about the Cost-Per-Two person and Ratings provide by customers.\n\nBy analysing these datas they want to finalise the location for the Restaurent.\n"
        },
        {
            "cell_type": "code",
            "execution_count": null,
            "metadata": {},
            "outputs": [],
            "source": ""
        }
    ],
    "metadata": {
        "kernelspec": {
            "display_name": "Python 3.6",
            "language": "python",
            "name": "python3"
        },
        "language_info": {
            "codemirror_mode": {
                "name": "ipython",
                "version": 3
            },
            "file_extension": ".py",
            "mimetype": "text/x-python",
            "name": "python",
            "nbconvert_exporter": "python",
            "pygments_lexer": "ipython3",
            "version": "3.6.9"
        }
    },
    "nbformat": 4,
    "nbformat_minor": 1
}